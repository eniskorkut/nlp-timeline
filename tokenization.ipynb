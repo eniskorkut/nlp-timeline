{
 "cells": [
  {
   "cell_type": "code",
   "id": "initial_id",
   "metadata": {
    "collapsed": true,
    "jupyter": {
     "is_executing": true
    }
   },
   "source": [
    "# İçe aktaralım\n",
    "import nltk\n",
    "# 'popular' koleksiyonunu indirelim\n",
    "nltk.download('popular')\n",
    "# 'punkt_tab' belirteçleme modellerini indirelim.\n",
    "nltk.download('punkt_tab')"
   ],
   "outputs": [],
   "execution_count": null
  },
  {
   "metadata": {},
   "cell_type": "code",
   "outputs": [],
   "execution_count": null,
   "source": [
    "# Word tokenization\n",
    "text = \"Merhaba, bu bir örnek cümledir.\"\n",
    "\n",
    "# Bu kod kelime belirteçlemesini gerçekleştirir\n",
    "tokens = nltk.word_tokenize(text)\n",
    "\n",
    "# Yazdıralım\n",
    "print(tokens)"
   ],
   "id": "8728d935bf7d1682"
  },
  {
   "metadata": {},
   "cell_type": "code",
   "outputs": [],
   "execution_count": null,
   "source": [
    "# Sentence tokenization örneği\n",
    "# Örnek cümle\n",
    "text_with_sentences = \"Bu ilk cümle. Bu da ikinci cümle! Üçüncü cümle nerede?\"\n",
    "\n",
    "# Cümlelere bölelim\n",
    "sentences = nltk.sent_tokenize(text_with_sentences)\n",
    "\n",
    "# Yazdıralım\n",
    "print(sentences)"
   ],
   "id": "187e216edc758037"
  },
  {
   "metadata": {},
   "cell_type": "code",
   "outputs": [],
   "execution_count": null,
   "source": [
    "text = \"Merhaba, dünya\"\n",
    "\n",
    "# Dizgiyi karakter listesine dönüştürerek karakter belirteçlemesi.\n",
    "char_tokens = list(text)\n",
    "\n",
    "# karakterleri yazdırma\n",
    "print(char_tokens)"
   ],
   "id": "e7244a0eab8971cf"
  },
  {
   "metadata": {},
   "cell_type": "code",
   "outputs": [],
   "execution_count": null,
   "source": "!pip install transformers",
   "id": "cb4a2b0291a916c9"
  },
  {
   "metadata": {},
   "cell_type": "code",
   "outputs": [],
   "execution_count": null,
   "source": [
    "#Subword tokenization\n",
    "from transformers import AutoTokenizer\n",
    "\n",
    "# Önceden eğitilmiş bir belirteçleyici yükleyelim (örn. BERT'ten)\n",
    "tokenizer = AutoTokenizer.from_pretrained(\"bert-base-uncased\")\n",
    "\n",
    "# Örnek metin\n",
    "text = \"This is an example sentence for subword tokenization.\"\n",
    "\n",
    "# Alt kelime belirteçlemesi gerçekleştirelim\n",
    "subword_tokens = tokenizer.tokenize(text)\n",
    "\n",
    "# Yazdıralım\n",
    "print(subword_tokens)"
   ],
   "id": "20a4e9694e237480"
  }
 ],
 "metadata": {
  "kernelspec": {
   "display_name": "Python 3",
   "language": "python",
   "name": "python3"
  },
  "language_info": {
   "codemirror_mode": {
    "name": "ipython",
    "version": 2
   },
   "file_extension": ".py",
   "mimetype": "text/x-python",
   "name": "python",
   "nbconvert_exporter": "python",
   "pygments_lexer": "ipython2",
   "version": "2.7.6"
  }
 },
 "nbformat": 4,
 "nbformat_minor": 5
}
