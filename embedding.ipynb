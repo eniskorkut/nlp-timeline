{
 "cells": [
  {
   "metadata": {},
   "cell_type": "code",
   "outputs": [],
   "execution_count": null,
   "source": [
    "# sentence-transformers kütüphanesini kuralım\n",
    "!pip install sentence-transformers"
   ],
   "id": "fbc121e30a2defb3"
  },
  {
   "metadata": {},
   "cell_type": "code",
   "outputs": [],
   "execution_count": null,
   "source": [
    "# Embeddin Örneği\n",
    "from sentence_transformers import SentenceTransformer\n",
    "\n",
    "# Önceden eğitilmiş bir cümle dönüştürücü modeli yükleyelim (BERT tabanlı bir model kullanarak)\n",
    "model = SentenceTransformer('bert-base-nli-mean-tokens')\n",
    "\n",
    "# Bazı örnek cümleler tanımlayalım\n",
    "sentences = [\n",
    "    \"Bu ilk cümle.\",\n",
    "    \"Bu da ikinci cümle.\",\n",
    "    \"İlk cümle ile ikinci cümle arasında bir bağlantı var.\",\n",
    "    \"Tamamen farklı bir konu hakkında bir cümle.\"\n",
    "]\n",
    "\n",
    "# Embeddinglerini almak için cümleleri kodlayalım\n",
    "sentence_embeddings = model.encode(sentences)\n",
    "\n",
    "# Embeddingleri yazdıralım (kısa olması için ilk birkaç boyut)\n",
    "print(\"Cümle Embeddingleri (ilk 5 boyut):\")\n",
    "for i, sentence in enumerate(sentences):\n",
    "    print(f\"Cümle: \\\"{sentence}\\\"\")\n",
    "    print(f\"Embedding: {sentence_embeddings[i][:5]}...\") # ilk 5 boyutu yazdır\n",
    "    print(\"-\" * 20)\n",
    "\n",
    "# Embeddinglerin şeklini de yazdırabilirsiniz\n",
    "print(f\"Embeddinglerin şekli(cümle sayısı,vektör boyutu): {sentence_embeddings.shape}\")"
   ],
   "id": "810eab136a9ab641"
  },
  {
   "metadata": {},
   "cell_type": "code",
   "outputs": [],
   "execution_count": null,
   "source": "",
   "id": "4c76f4655d640071"
  }
 ],
 "metadata": {
  "kernelspec": {
   "display_name": "Python 3",
   "language": "python",
   "name": "python3"
  },
  "language_info": {
   "codemirror_mode": {
    "name": "ipython",
    "version": 2
   },
   "file_extension": ".py",
   "mimetype": "text/x-python",
   "name": "python",
   "nbconvert_exporter": "python",
   "pygments_lexer": "ipython2",
   "version": "2.7.6"
  }
 },
 "nbformat": 4,
 "nbformat_minor": 5
}
